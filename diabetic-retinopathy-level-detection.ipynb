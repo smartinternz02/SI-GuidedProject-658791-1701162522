!pip install numpy
!pip install pandas
!pip install tensorflow==2.13.0
!pip install keras==2.13.1
!pip install Flask
!pip install kaggle
!pip install -q kaggle
import json
import opendatasets as od
import pandas
od.download("https://www.kaggle.com/datasets/arbethi/diabetic-retinopathy-level-detection/data")
imageSize = [299,299]
trainPath = r"/content/preprocessed dataset/preprocessed dataset/training"
trainPath = r'C:\Users\LVP_USER\Desktop\kaggle\diabetic-retinopathy-level-detection\preprocessed dataset\preprocessed dataset\training'
testPath = r"/content/preprocessed dataset/preprocessed dataset/testing"
testPath = r'C:\Users\LVP_USER\Desktop\kaggle\diabetic-retinopathy-level-detection\preprocessed dataset\preprocessed dataset\testing'
from tensorflow.keras.applications.xception import Xception, preprocess_input
from tensorflow.keras.layers import Dense, Flatten, Input, Conv2D, SeparableConv2D, Add, BatchNormalization, ReLU, MaxPool2D, GlobalAvgPool2D
from tensorflow.keras.preprocessing import image
from tensorflow.keras.preprocessing.image import ImageDataGenerator, load_img
from glob import glob
import matplotlib.pyplot as plt
train_datagen = ImageDataGenerator(rescale = 1./255, shear_range=0.2, zoom_range = 0.2, horizontal_flip = True)
test_datagen = ImageDataGenerator(rescale = 1./255)
from tensorflow.keras import Model
model = Model(inputs=input, outputs = output)
train_datagen = ImageDataGenerator(rescale = 1./255, shear_range=0.2, zoom_range = 0.2, horizontal_flip = True)training_set = train_datagen.flow_from_directory(trainPath, target_size = (299, 299), batch_size = 32, class_mode = 'categorical') 
testing_set = test_datagen.flow_from_directory(testPath, target_size = (299, 299), batch_size = 32, class_mode = 'categorical')  
xception = Xception(input_shape = imageSize + [3], weights= 'imagenet', include_top = False)
for layer in xception.layers:
    layer.trainable = False
x = Flatten()(xception.output)
prediction = Dense(5, activation='softmax')(x)
#create a moel object
model = Model(inputs=xception.input, outputs=prediction)
model.summary()
#tell the model what cost and optimization method to use
model.compile(
loss = 'categorical_crossentropy',
optimizer = 'adam',
metrics = ['accuracy']
)
#fit the model
r = model.fit_generator(
 training_set, 
 validation_data=testing_set, 
 epochs = 30, 
 steps_per_epoch=len(training_set)//32,
 validation_steps = len(testing_set)//32
                       )
model.save('Updated-Xception-diabetic-retinopathy.h5')

